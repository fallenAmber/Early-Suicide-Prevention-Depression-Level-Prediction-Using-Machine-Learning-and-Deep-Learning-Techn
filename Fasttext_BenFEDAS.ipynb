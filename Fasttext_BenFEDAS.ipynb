{
  "cells": [
    {
      "cell_type": "code",
      "execution_count": null,
      "metadata": {
        "colab": {
          "base_uri": "https://localhost:8080/"
        },
        "id": "6ULc1EJesUFQ",
        "outputId": "40d8e869-fdb1-4b3d-db4e-07abfc8a721e"
      },
      "outputs": [
        {
          "output_type": "stream",
          "name": "stdout",
          "text": [
            "Collecting fasttext\n",
            "  Downloading fasttext-0.9.2.tar.gz (68 kB)\n",
            "\u001b[?25l\r\u001b[K     |████▊                           | 10 kB 31.6 MB/s eta 0:00:01\r\u001b[K     |█████████▌                      | 20 kB 18.2 MB/s eta 0:00:01\r\u001b[K     |██████████████▎                 | 30 kB 10.9 MB/s eta 0:00:01\r\u001b[K     |███████████████████             | 40 kB 11.0 MB/s eta 0:00:01\r\u001b[K     |███████████████████████▉        | 51 kB 6.8 MB/s eta 0:00:01\r\u001b[K     |████████████████████████████▋   | 61 kB 8.0 MB/s eta 0:00:01\r\u001b[K     |████████████████████████████████| 68 kB 5.0 MB/s \n",
            "\u001b[?25hCollecting pybind11>=2.2\n",
            "  Using cached pybind11-2.9.2-py2.py3-none-any.whl (213 kB)\n",
            "Requirement already satisfied: setuptools>=0.7.0 in /usr/local/lib/python3.7/dist-packages (from fasttext) (57.4.0)\n",
            "Requirement already satisfied: numpy in /usr/local/lib/python3.7/dist-packages (from fasttext) (1.21.6)\n",
            "Building wheels for collected packages: fasttext\n",
            "  Building wheel for fasttext (setup.py) ... \u001b[?25l\u001b[?25hdone\n",
            "  Created wheel for fasttext: filename=fasttext-0.9.2-cp37-cp37m-linux_x86_64.whl size=3144554 sha256=59f79689a4601167bc23b3062b68b9296cc3135cc274bb674171df71e5dbf184\n",
            "  Stored in directory: /root/.cache/pip/wheels/4e/ca/bf/b020d2be95f7641801a6597a29c8f4f19e38f9c02a345bab9b\n",
            "Successfully built fasttext\n",
            "Installing collected packages: pybind11, fasttext\n",
            "Successfully installed fasttext-0.9.2 pybind11-2.9.2\n"
          ]
        }
      ],
      "source": [
        "!pip install fasttext"
      ]
    },
    {
      "cell_type": "code",
      "execution_count": null,
      "metadata": {
        "id": "UBFkQLvckdft"
      },
      "outputs": [],
      "source": [
        "#!wget https://dl.fbaipublicfiles.com/fasttext/vectors-crawl/cc.bn.300.bin.gz -d \"/content/drive/MyDrive/Thesis\""
      ]
    },
    {
      "cell_type": "code",
      "execution_count": null,
      "metadata": {
        "id": "-e2FseyPC2XA"
      },
      "outputs": [],
      "source": [
        "#pip install bnlp_toolkit"
      ]
    },
    {
      "cell_type": "code",
      "execution_count": null,
      "metadata": {
        "colab": {
          "base_uri": "https://localhost:8080/"
        },
        "id": "0tNbXxntLuti",
        "outputId": "887f0957-b127-4024-f585-2e09d1f6fcd1"
      },
      "outputs": [
        {
          "output_type": "stream",
          "name": "stdout",
          "text": [
            "Mounted at /content/drive\n"
          ]
        }
      ],
      "source": [
        "from google.colab import drive\n",
        "drive.mount('/content/drive')"
      ]
    },
    {
      "cell_type": "code",
      "execution_count": null,
      "metadata": {
        "colab": {
          "base_uri": "https://localhost:8080/"
        },
        "id": "3WP5ipf_FIsX",
        "outputId": "7b926011-7ead-4d3e-b3e3-fef6fe6f53a5"
      },
      "outputs": [
        {
          "output_type": "stream",
          "name": "stdout",
          "text": [
            "CPU times: user 2.45 s, sys: 406 ms, total: 2.86 s\n",
            "Wall time: 3.27 s\n"
          ]
        }
      ],
      "source": [
        "\n",
        "%%time\n",
        "import os\n",
        "from glob import glob\n",
        "import numpy as np\n",
        "import matplotlib.pyplot as plt\n",
        "%matplotlib inline\n",
        "import pandas as pd\n",
        "import seaborn as sns\n",
        "import re\n",
        "import nltk\n",
        "import json\n",
        "import tensorflow as tf\n",
        "from tensorflow import keras\n",
        "from tensorflow.keras import regularizers\n",
        "from keras import models\n",
        "from keras import layers\n",
        "from tensorflow.keras.layers import LSTM,GRU\n",
        "from tensorflow.keras.models import load_model\n",
        "from sklearn.metrics import confusion_matrix\n",
        "from sklearn.metrics import classification_report \n",
        "from sklearn.model_selection import train_test_split\n",
        "from sklearn.linear_model import LogisticRegression, LogisticRegressionCV\n",
        "from sklearn.tree import DecisionTreeClassifier\n",
        "from sklearn.neighbors import KNeighborsClassifier\n",
        "from sklearn.ensemble import RandomForestClassifier, AdaBoostClassifier\n",
        "from sklearn.naive_bayes import MultinomialNB\n",
        "from sklearn.svm import SVC\n",
        "from sklearn.metrics import accuracy_score,precision_score,recall_score,f1_score,roc_auc_score\n",
        "from sklearn.metrics import average_precision_score,roc_auc_score, roc_curve, precision_recall_curve\n",
        "from sklearn.preprocessing import LabelEncoder\n",
        "from sklearn.feature_extraction.text import TfidfVectorizer, CountVectorizer, TfidfTransformer\n",
        "from sklearn.pipeline import Pipeline\n",
        "from tensorflow.keras.preprocessing.text import Tokenizer\n",
        "import tensorflow as tf\n",
        "from tensorflow.keras.preprocessing.text import Tokenizer\n",
        "from tensorflow.keras.preprocessing.sequence import pad_sequences\n",
        "np.random.seed(42)"
      ]
    },
    {
      "cell_type": "code",
      "execution_count": null,
      "metadata": {
        "colab": {
          "base_uri": "https://localhost:8080/"
        },
        "id": "Inv8w_8pJTi2",
        "outputId": "bd698426-5e70-4385-bdec-cb994967f8ec"
      },
      "outputs": [
        {
          "name": "stdout",
          "output_type": "stream",
          "text": [
            "gzip: /content/drive/MyDrive/Thesis/bengali_fasttext_wiki.zip: unknown suffix -- ignored\n",
            "gzip: /content/drive/MyDrive/Thesis/ is a directory -- ignored\n"
          ]
        }
      ],
      "source": [
        "!gunzip '/content/drive/MyDrive/Thesis/bengali_fasttext_wiki.zip' -d '/content/drive/MyDrive/Thesis/'"
      ]
    },
    {
      "cell_type": "code",
      "execution_count": null,
      "metadata": {
        "colab": {
          "base_uri": "https://localhost:8080/"
        },
        "id": "xX3JZ1IqUU5n",
        "outputId": "2d1963ac-0e00-44b4-fe44-94f5bac74c1e"
      },
      "outputs": [
        {
          "output_type": "stream",
          "name": "stderr",
          "text": [
            "/usr/local/lib/python3.7/dist-packages/openpyxl/worksheet/_reader.py:211: UserWarning: Cell E4661 is marked as a date but the serial value 6691519.586805556 is outside the limits for dates. The cell will be treated as an error.\n",
            "  warn(msg)\n"
          ]
        }
      ],
      "source": [
        "\n",
        "#read Data\n",
        "data =pd.read_excel('/content/drive/MyDrive/Thesis/BenFEDAS.xlsx')\n",
        "data_df = data[:][0:6478]\n",
        "text_data = data_df[\"text\"]\n",
        "labels = data_df[\"label2\"]\n",
        "classes = data_df['class2']"
      ]
    },
    {
      "cell_type": "markdown",
      "metadata": {
        "id": "2ZZ6-6j4ta2C"
      },
      "source": [
        "#4 DAS"
      ]
    },
    {
      "cell_type": "code",
      "execution_count": null,
      "metadata": {
        "id": "2HX8ZUceUPu-"
      },
      "outputs": [],
      "source": [
        "def make_four_label_droping(data_df):\n",
        "  tag_list = []\n",
        "  text_list = []\n",
        "  for i in range(len(data_df)):\n",
        "      if (data_df.class2[i] == 'anger' or data_df.class2[i] ==  'disapproval' or data_df.class2[i] == 'disgust'): \n",
        "        tag = \"mild\"\n",
        "        tag_list.append(tag)\n",
        "        text_list.append(data_df.text[i])\n",
        "      elif (data_df.class2[i] == 'fear' or data_df.class2[i] ==  'nervousness' or data_df.class2[i] ==  'embarrassment' or data_df.class2[i] ==  'remorse'): \n",
        "        tag = \"moderate\"\n",
        "        tag_list.append(tag)\n",
        "        text_list.append(data_df.text[i])\n",
        "      elif (data_df.class2[i] == 'sadness' or data_df.class2[i] == 'disappointment'): \n",
        "        tag = \"severe\"\n",
        "        tag_list.append(tag)\n",
        "        text_list.append(data_df.text[i])\n",
        "      elif(data_df.class2[i] == 'joy' or data_df.class2[i] ==  'love' or data_df.class2[i] ==   'approval'or data_df.class2[i] ==  'amusement' ):\n",
        "        tag = \"no\"      \n",
        "        tag_list.append(tag)\n",
        "        text_list.append(data_df.text[i])\n",
        "  \n",
        "  new_df = pd.DataFrame(list(zip(text_list, tag_list)), columns = ['text', 'label'])   \n",
        "\n",
        "  return new_df\n",
        "new_df = make_four_label_droping(data_df)"
      ]
    },
    {
      "cell_type": "markdown",
      "metadata": {
        "id": "5h4rJ0sZtVoB"
      },
      "source": [
        "# 6 Ekman"
      ]
    },
    {
      "cell_type": "code",
      "execution_count": null,
      "metadata": {
        "id": "U6QUpEPGtUe0"
      },
      "outputs": [],
      "source": [
        "def make_6_emotion(data_df):\n",
        "  tag_list = []\n",
        "  for i in range(len(data_df)):\n",
        "      if (data_df.class2[i] == 'anger' or data_df.class2[i] ==  'disapproval' or data_df.class2[i] == 'disgust'): \n",
        "        tag = \"anger\"\n",
        "        tag_list.append(tag)\n",
        "      elif (data_df.class2[i] == 'fear' or data_df.class2[i] ==  'nervousness'): \n",
        "        tag = \"fear\"\n",
        "        tag_list.append(tag)\n",
        "      elif (data_df.class2[i] == 'sadness' or data_df.class2[i] == 'disappointment'or data_df.class2[i] ==  'embarrassment' or data_df.class2[i] ==  'remorse'): \n",
        "        tag = \"sadness\"\n",
        "        tag_list.append(tag)\n",
        "      elif (data_df.class2[i] == 'surprise' or data_df.class2[i] ==   'confusion'): \n",
        "        tag = \"surprise\"\n",
        "        tag_list.append(tag)\n",
        "      elif (data_df.class2[i] ==  'neutral'):\n",
        "\n",
        "        tag = \"neutral\"\n",
        "        tag_list.append(tag)\n",
        "      else:\n",
        "        tag = \"joy\"      \n",
        "        tag_list.append(tag)   \n",
        "  data_df['label'] = tag_list \n",
        "  return data_df\n",
        "new_df = make_6_emotion(data_df)"
      ]
    },
    {
      "cell_type": "code",
      "execution_count": null,
      "metadata": {
        "id": "gIWY4Jdwv0qi"
      },
      "outputs": [],
      "source": [
        "new_df.tail(5)"
      ]
    },
    {
      "cell_type": "code",
      "execution_count": null,
      "metadata": {
        "id": "v3zCgehhFAN1"
      },
      "outputs": [],
      "source": [
        "text_data = new_df[\"text\"]\n",
        "labels = new_df[\"label\"]\n",
        "tokenizer = Tokenizer(num_words= 15000)\n",
        "tokenizer.fit_on_texts(text_data)\n",
        "sequences = tokenizer.texts_to_sequences(text_data)\n",
        "word_index = tokenizer.word_index\n",
        "data = pad_sequences(sequences, maxlen = 196)\n",
        "\n",
        "from sklearn.preprocessing import LabelEncoder\n",
        "label = LabelEncoder()\n",
        "labels = label.fit_transform(labels)\n",
        "\n",
        "train_data, test_data, train_labels, test_labels = train_test_split(data, labels, test_size=0.2, shuffle = False, random_state=42)\n",
        "#train_data, sp_data, train_labels, sp_labels = train_test_split(text_data, labels, test_size=0.4, shuffle = False, random_state=42)\n",
        "#val_data, test_data, val_labels, test_labels = train_test_split(sp_data, sp_labels, test_size=0.5, shuffle = False, random_state=42)"
      ]
    },
    {
      "cell_type": "code",
      "execution_count": null,
      "metadata": {
        "colab": {
          "base_uri": "https://localhost:8080/"
        },
        "id": "iVQaCmNpD2su",
        "outputId": "5178d5e9-8361-4cab-f2e2-3767dd569e7f"
      },
      "outputs": [
        {
          "output_type": "stream",
          "name": "stdout",
          "text": [
            "Downloading https://dl.fbaipublicfiles.com/fasttext/vectors-crawl/cc.bn.300.bin.gz\n",
            "\n"
          ]
        },
        {
          "output_type": "stream",
          "name": "stderr",
          "text": [
            "Warning : `load_model` does not return WordVectorModel or SupervisedModel any more, but a `FastText` object which is very similar.\n"
          ]
        }
      ],
      "source": [
        "import fasttext\n",
        "import fasttext.util\n",
        "fasttext.util.download_model('bn', if_exists='ignore')  # Bengali\n",
        "model = fasttext.load_model(\"/content/cc.bn.300.bin\")\n",
        "unique_words = len(word_index)"
      ]
    },
    {
      "cell_type": "code",
      "execution_count": null,
      "metadata": {
        "id": "3og5QUhfDuCa"
      },
      "outputs": [],
      "source": [
        "embedding_dim =300\n",
        "total_words = unique_words +1\n",
        "skipped_words = 0\n",
        "embedding_matrix = np.zeros((total_words, embedding_dim))\n",
        "\n",
        "for word, index in tokenizer.word_index.items():\n",
        "  try:\n",
        "    embedding_vector = model[word]\n",
        "  except:\n",
        "\n",
        "    skipped_words = skipped_words +1\n",
        "    pass\n",
        "  if embedding_vector is not  None:\n",
        "    embedding_matrix[index] = embedding_vector  "
      ]
    },
    {
      "cell_type": "code",
      "execution_count": null,
      "metadata": {
        "colab": {
          "background_save": true
        },
        "id": "fMYFELZZBadP"
      },
      "outputs": [],
      "source": [
        "from tensorflow.keras.layers import *\n",
        "embedding_layer = Embedding(total_words, embedding_dim, weights =[embedding_matrix], input_length =196, trainable = True)\n",
        "lr =tf.keras.optimizers.Adam(\n",
        "    learning_rate= 1e-04,\n",
        "    beta_1=0.9,\n",
        "    beta_2=0.999,\n",
        "    epsilon=1e-08,\n",
        "    amsgrad=False,\n",
        "    name=\"Adam\"\n",
        ")\n",
        "model =  tf.keras.Sequential([\n",
        "                              embedding_layer, \n",
        "                              tf.keras.layers.Bidirectional(tf.keras.layers.LSTM(64, return_sequences=True)),\n",
        "                              tf.keras.layers.Dropout(0.8),\n",
        "                              tf.keras.layers.Bidirectional(tf.keras.layers.LSTM(32)),\n",
        "                              tf.keras.layers.Dropout(0.8),\n",
        "                              tf.keras.layers.Dense(32,kernel_regularizer=regularizers.l2(0.01),activation=\"relu\"),\n",
        "                             tf.keras.layers.Dropout(0.2),\n",
        "                              tf.keras.layers.Dense(6, activation='softmax')\n",
        "])\n",
        "model.compile(loss='sparse_categorical_crossentropy',optimizer=lr,metrics=['accuracy'])\n",
        "#model.compile(loss='categorical_crossentropy',optimizer=lr,metrics=['accuracy'])\n",
        "#tensorboard_callback = tf.keras.callbacks.TensorBoard(log_dir=\"logs\")\n",
        "tensorboard_callback  = tf.keras.callbacks.EarlyStopping(monitor='val_loss', patience=3)\n",
        "\n",
        "\n",
        "history = model.fit(train_data,  train_labels, epochs=50, batch_size =32, validation_data=(test_data, test_labels),validation_batch_size =16,callbacks=[tensorboard_callback], verbose=2)"
      ]
    },
    {
      "cell_type": "code",
      "execution_count": null,
      "metadata": {
        "colab": {
          "base_uri": "https://localhost:8080/"
        },
        "id": "WCi0LPBpsSRY",
        "outputId": "54b2186e-c60b-45d6-9cb7-b33d394c0e5e"
      },
      "outputs": [
        {
          "output_type": "stream",
          "name": "stdout",
          "text": [
            "Epoch 1/50\n",
            "137/137 - 8s - loss: 1.3737 - accuracy: 0.3101 - val_loss: 1.3092 - val_accuracy: 0.3853 - 8s/epoch - 55ms/step\n",
            "Epoch 2/50\n",
            "137/137 - 4s - loss: 1.3298 - accuracy: 0.3709 - val_loss: 1.2451 - val_accuracy: 0.3853 - 4s/epoch - 26ms/step\n",
            "Epoch 3/50\n",
            "137/137 - 4s - loss: 1.3194 - accuracy: 0.3766 - val_loss: 1.2313 - val_accuracy: 0.3853 - 4s/epoch - 26ms/step\n",
            "Epoch 4/50\n",
            "137/137 - 4s - loss: 1.3125 - accuracy: 0.3865 - val_loss: 1.2214 - val_accuracy: 0.3853 - 4s/epoch - 26ms/step\n",
            "Epoch 5/50\n",
            "137/137 - 4s - loss: 1.3134 - accuracy: 0.3761 - val_loss: 1.2228 - val_accuracy: 0.3853 - 4s/epoch - 26ms/step\n",
            "Epoch 6/50\n",
            "137/137 - 4s - loss: 1.3031 - accuracy: 0.3817 - val_loss: 1.2087 - val_accuracy: 0.3853 - 4s/epoch - 26ms/step\n",
            "Epoch 7/50\n",
            "137/137 - 4s - loss: 1.2942 - accuracy: 0.3888 - val_loss: 1.2075 - val_accuracy: 0.3853 - 4s/epoch - 26ms/step\n",
            "Epoch 8/50\n",
            "137/137 - 4s - loss: 1.2867 - accuracy: 0.3915 - val_loss: 1.1959 - val_accuracy: 0.3872 - 4s/epoch - 28ms/step\n",
            "Epoch 9/50\n",
            "137/137 - 4s - loss: 1.2702 - accuracy: 0.3993 - val_loss: 1.1948 - val_accuracy: 0.3927 - 4s/epoch - 26ms/step\n",
            "Epoch 10/50\n",
            "137/137 - 4s - loss: 1.2390 - accuracy: 0.4344 - val_loss: 1.1806 - val_accuracy: 0.4321 - 4s/epoch - 26ms/step\n",
            "Epoch 11/50\n",
            "137/137 - 4s - loss: 1.1796 - accuracy: 0.4819 - val_loss: 1.1626 - val_accuracy: 0.4587 - 4s/epoch - 27ms/step\n",
            "Epoch 12/50\n",
            "137/137 - 4s - loss: 1.1054 - accuracy: 0.5367 - val_loss: 1.1662 - val_accuracy: 0.4982 - 4s/epoch - 26ms/step\n",
            "Epoch 13/50\n",
            "137/137 - 4s - loss: 1.0221 - accuracy: 0.5885 - val_loss: 1.1593 - val_accuracy: 0.4927 - 4s/epoch - 26ms/step\n",
            "Epoch 14/50\n",
            "137/137 - 4s - loss: 0.9412 - accuracy: 0.6211 - val_loss: 1.2222 - val_accuracy: 0.4789 - 4s/epoch - 26ms/step\n",
            "Epoch 15/50\n",
            "137/137 - 4s - loss: 0.8547 - accuracy: 0.6663 - val_loss: 1.3033 - val_accuracy: 0.4991 - 4s/epoch - 26ms/step\n",
            "Epoch 16/50\n",
            "137/137 - 4s - loss: 0.7740 - accuracy: 0.7021 - val_loss: 1.3202 - val_accuracy: 0.5101 - 4s/epoch - 26ms/step\n"
          ]
        }
      ],
      "source": [
        "\n",
        "from tensorflow.keras.layers import *\n",
        "embedding_layer = Embedding(total_words, embedding_dim, weights =[embedding_matrix], input_length =196, trainable = True)\n",
        "lr =tf.keras.optimizers.Adam(\n",
        "    learning_rate= 1e-04,\n",
        "    beta_1=0.9,\n",
        "    beta_2=0.999,\n",
        "    epsilon=1e-08,\n",
        "    amsgrad=False,\n",
        "    name=\"Adam\"\n",
        ")\n",
        "model =  tf.keras.Sequential([\n",
        "   embedding_layer, \n",
        "    tf.keras.layers.Bidirectional(GRU(128,dropout=0.2)),\n",
        "    tf.keras.layers.Dropout(0.8),\n",
        "    tf.keras.layers.Dense(64, activation='relu'),\n",
        "    tf.keras.layers.Dropout(0.6),\n",
        "    tf.keras.layers.Flatten(),\n",
        "    tf.keras.layers.Dense(4, activation='softmax')])\n",
        "                              \n",
        "                            \n",
        "model.compile(loss='sparse_categorical_crossentropy',optimizer=lr,metrics=['accuracy'])\n",
        "#model.compile(loss='binary_crossentropy',optimizer=lr,metrics=['accuracy'])\n",
        "#model.compile(loss='categorical_crossentropy',optimizer='adam',metrics=['accuracy'])\n",
        "#tensorboard_callback = tf.keras.callbacks.TensorBoard(log_dir=\"logs\")\n",
        "tensorboard_callback  = tf.keras.callbacks.EarlyStopping(monitor='val_loss', patience=3)\n",
        "num_epochs = 50\n",
        "history = model.fit(train_data, train_labels,epochs=num_epochs, batch_size =32, validation_data=(test_data, test_labels), validation_batch_size =16, callbacks=[tensorboard_callback], verbose=2)"
      ]
    },
    {
      "cell_type": "code",
      "execution_count": null,
      "metadata": {
        "colab": {
          "base_uri": "https://localhost:8080/",
          "height": 279
        },
        "id": "Zfodp3ke2PBd",
        "outputId": "dd6b1e3f-7256-4c10-9201-83d7b7e79c86"
      },
      "outputs": [
        {
          "output_type": "display_data",
          "data": {
            "text/plain": [
              "<Figure size 432x288 with 1 Axes>"
            ],
            "image/png": "[encoded data removed]"
          },
          "metadata": {
            "needs_background": "light"
          }
        }
      ],
      "source": [
        "## অ্যাক্যুরেসি  ম্যাটপ্লটলিব দিয়ে\n",
        "\n",
        "import matplotlib.pyplot as plt\n",
        "\n",
        "def plot_graphs(history, string):\n",
        "  \n",
        "  plt.plot(history.history[string])\n",
        "  plt.plot(history.history['val_'+string])\n",
        "  plt.xlabel(\"Epochs\")\n",
        "  plt.ylabel(string)\n",
        "  plt.legend([string, 'val_'+string])\n",
        "  plt.savefig(\"/content/drive/MyDrive/Thesis/fasttext/fix196l_300e_Accuracy_e-4_.01reg.8.8dropout_GRU__4DAS_.2test_bilstm drop.jpg\",format = 'jpg',dpi = 1000)\n",
        "  \n",
        "plot_graphs(history, \"accuracy\")\n"
      ]
    },
    {
      "cell_type": "code",
      "execution_count": null,
      "metadata": {
        "colab": {
          "base_uri": "https://localhost:8080/",
          "height": 282
        },
        "id": "f_fvjIxS2Rgs",
        "outputId": "5c10929f-10d6-4a81-a69e-152bdb834ac0"
      },
      "outputs": [
        {
          "output_type": "display_data",
          "data": {
            "text/plain": [
              "<Figure size 432x288 with 1 Axes>"
            ],
            "image/png": "[encoded data removed]"
          },
          "metadata": {
            "needs_background": "light"
          }
        }
      ],
      "source": [
        "##  লস, ম্যাটপ্লটলিব দিয়ে\n",
        "\n",
        "import matplotlib.pyplot as plt\n",
        "\n",
        "def plot_graphs(history, string):\n",
        "  \n",
        "  plt.plot(history.history[string])\n",
        "  plt.plot(history.history['val_'+string])\n",
        "  plt.xlabel(\"Epochs\")\n",
        "  plt.ylabel(string)\n",
        "  plt.legend([string, 'val_'+string])\n",
        "  plt.savefig(\"/content/drive/MyDrive/Thesis/fasttext/fix196l_300e_loss_e-4_.01reg.8.8dropout GRU__4DAS_.2test_bilstm drop.jpg\",format = 'jpg',dpi = 1000)\n",
        "  \n",
        "plot_graphs(history, \"loss\")\n",
        "\n",
        "\n"
      ]
    },
    {
      "cell_type": "code",
      "execution_count": null,
      "metadata": {
        "colab": {
          "base_uri": "https://localhost:8080/"
        },
        "id": "OensHIUkAGlY",
        "outputId": "dfd57bcc-8f66-4afa-acbf-88f984826494"
      },
      "outputs": [
        {
          "output_type": "stream",
          "name": "stdout",
          "text": [
            "35/35 - 1s - 955ms/epoch - 27ms/step\n",
            "              precision    recall  f1-score   support\n",
            "\n",
            "           0       0.36      0.23      0.28       127\n",
            "           1       0.00      0.00      0.00        64\n",
            "           2       0.57      0.53      0.55       479\n",
            "           3       0.48      0.65      0.55       420\n",
            "\n",
            "    accuracy                           0.51      1090\n",
            "   macro avg       0.35      0.35      0.35      1090\n",
            "weighted avg       0.48      0.51      0.49      1090\n",
            "\n"
          ]
        },
        {
          "output_type": "stream",
          "name": "stderr",
          "text": [
            "/usr/local/lib/python3.7/dist-packages/sklearn/metrics/_classification.py:1318: UndefinedMetricWarning: Precision and F-score are ill-defined and being set to 0.0 in labels with no predicted samples. Use `zero_division` parameter to control this behavior.\n",
            "  _warn_prf(average, modifier, msg_start, len(result))\n",
            "/usr/local/lib/python3.7/dist-packages/sklearn/metrics/_classification.py:1318: UndefinedMetricWarning: Precision and F-score are ill-defined and being set to 0.0 in labels with no predicted samples. Use `zero_division` parameter to control this behavior.\n",
            "  _warn_prf(average, modifier, msg_start, len(result))\n",
            "/usr/local/lib/python3.7/dist-packages/sklearn/metrics/_classification.py:1318: UndefinedMetricWarning: Precision and F-score are ill-defined and being set to 0.0 in labels with no predicted samples. Use `zero_division` parameter to control this behavior.\n",
            "  _warn_prf(average, modifier, msg_start, len(result))\n"
          ]
        },
        {
          "output_type": "execute_result",
          "data": {
            "text/plain": [
              "array([[ 29,   0,  40,  58],\n",
              "       [  6,   0,  24,  34],\n",
              "       [ 26,   0, 254, 199],\n",
              "       [ 19,   0, 128, 273]])"
            ]
          },
          "metadata": {},
          "execution_count": 11
        }
      ],
      "source": [
        "from sklearn.metrics import classification_report, confusion_matrix\n",
        "ypred = model.predict(test_data, verbose=2)\n",
        "ypred = np.argmax(ypred, axis=1)\n",
        "print(classification_report(test_labels, ypred))\n",
        "confusion_matrix(test_labels, ypred)\n"
      ]
    },
    {
      "cell_type": "code",
      "execution_count": null,
      "metadata": {
        "id": "SRLHd1W-GTUs"
      },
      "outputs": [],
      "source": [
        "embedding_vector = word_embedding['বাংলা']"
      ]
    },
    {
      "cell_type": "code",
      "execution_count": null,
      "metadata": {
        "id": "1AQbpXwECWha"
      },
      "outputs": [],
      "source": [
        "print(model['বাংলা']) "
      ]
    },
    {
      "cell_type": "code",
      "execution_count": null,
      "metadata": {
        "id": "zC914cxRFieB"
      },
      "outputs": [],
      "source": [
        "unique_words = len"
      ]
    },
    {
      "cell_type": "code",
      "execution_count": null,
      "metadata": {
        "id": "LOuB-Uk1DClR"
      },
      "outputs": [],
      "source": [
        "from bnlp.embedding.fasttext import BengaliFasttext\n",
        "\n",
        "bft = BengaliFasttext()\n",
        "word = \"গ্রাম\"\n",
        "#model_path = \"/content/drive/MyDrive/Thesis/Thesis Code/cc.bn.300.bin\"\n",
        "word_vector = model.bft.generate_word_vector( word)\n",
        "print(word_vector.shape)\n",
        "print(word_vector)"
      ]
    }
  ],
  "metadata": {
    "colab": {
      "name": "Fasttext_BenFEDAS.ipynb",
      "provenance": []
    },
    "kernelspec": {
      "display_name": "Python 3",
      "language": "python",
      "name": "python3"
    },
    "language_info": {
      "codemirror_mode": {
        "name": "ipython",
        "version": 3
      },
      "file_extension": ".py",
      "mimetype": "text/x-python",
      "name": "python",
      "nbconvert_exporter": "python",
      "pygments_lexer": "ipython3",
      "version": "3.6.5"
    },
    "accelerator": "GPU"
  },
  "nbformat": 4,
  "nbformat_minor": 0
}